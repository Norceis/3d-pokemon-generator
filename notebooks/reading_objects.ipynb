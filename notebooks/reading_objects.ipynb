{
 "cells": [
  {
   "cell_type": "code",
   "execution_count": 1,
   "metadata": {
    "collapsed": true,
    "ExecuteTime": {
     "end_time": "2023-05-14T16:14:21.306085200Z",
     "start_time": "2023-05-14T16:14:20.455064500Z"
    }
   },
   "outputs": [],
   "source": [
    "import numpy as np\n",
    "import pyvista as pv\n",
    "import open3d as o3d\n",
    "import os\n",
    "from collections import defaultdict"
   ]
  },
  {
   "cell_type": "code",
   "execution_count": 2,
   "outputs": [
    {
     "name": "stdout",
     "output_type": "stream",
     "text": [
      "file count: dict_items([('zip', 2612), ('dae', 4040), ('fbx', 445), ('mtl', 3080), ('obj', 3388), ('smd', 1128), ('psk', 351), ('DAE', 603), ('SMD', 758), ('FBX', 502)])\n"
     ]
    }
   ],
   "source": [
    "types = defaultdict(lambda: 0)\n",
    "for root_dir, cur_dir, files in os.walk(r'E:\\3d-pokemon-generator\\data\\modele_pokemon'):\n",
    "    for file in files:\n",
    "        types[file[-3:]] += 1\n",
    "    # print(files)\n",
    "print('file count:', types.items())"
   ],
   "metadata": {
    "collapsed": false,
    "ExecuteTime": {
     "end_time": "2023-05-14T16:14:22.470083800Z",
     "start_time": "2023-05-14T16:14:21.301082600Z"
    }
   }
  },
  {
   "cell_type": "code",
   "execution_count": 3,
   "outputs": [],
   "source": [
    "dae_dirs = []\n",
    "for root_dir, cur_dir, files in os.walk(r'E:\\3d-pokemon-generator\\data\\modele_pokemon'):\n",
    "    for file in files:\n",
    "        if file.endswith('.obj') or file.endswith('.OBJ'):\n",
    "            dae_dirs.append(root_dir + '\\\\' + file)"
   ],
   "metadata": {
    "collapsed": false,
    "ExecuteTime": {
     "end_time": "2023-05-14T16:14:23.635084300Z",
     "start_time": "2023-05-14T16:14:22.472086Z"
    }
   }
  },
  {
   "cell_type": "code",
   "execution_count": 54,
   "outputs": [
    {
     "data": {
      "text/plain": "'E:\\\\3d-pokemon-generator\\\\data\\\\modele_pokemon\\\\PokemonBattle\\\\models\\\\Wii - Pokemon Battle Revolution - 141 Kabutops.zip\\\\collision.obj'"
     },
     "execution_count": 54,
     "metadata": {},
     "output_type": "execute_result"
    }
   ],
   "source": [
    "sample_id = 500\n",
    "dae_dirs[sample_id]"
   ],
   "metadata": {
    "collapsed": false,
    "ExecuteTime": {
     "end_time": "2023-05-14T16:33:50.068569800Z",
     "start_time": "2023-05-14T16:33:50.050824100Z"
    }
   }
  },
  {
   "cell_type": "code",
   "execution_count": 55,
   "outputs": [],
   "source": [
    "textured_mesh = o3d.io.read_triangle_mesh(dae_dirs[sample_id])"
   ],
   "metadata": {
    "collapsed": false,
    "ExecuteTime": {
     "end_time": "2023-05-14T16:33:52.113264600Z",
     "start_time": "2023-05-14T16:33:51.860264100Z"
    }
   }
  },
  {
   "cell_type": "code",
   "execution_count": 56,
   "outputs": [
    {
     "name": "stdout",
     "output_type": "stream",
     "text": [
      "TriangleMesh with 1464 points and 494 triangles.\n"
     ]
    }
   ],
   "source": [
    "print(textured_mesh)"
   ],
   "metadata": {
    "collapsed": false,
    "ExecuteTime": {
     "end_time": "2023-05-14T16:33:55.479641100Z",
     "start_time": "2023-05-14T16:33:55.470640400Z"
    }
   }
  },
  {
   "cell_type": "code",
   "execution_count": 51,
   "outputs": [
    {
     "data": {
      "text/plain": "open3d.cpu.pybind.geometry.TriangleMesh"
     },
     "execution_count": 51,
     "metadata": {},
     "output_type": "execute_result"
    }
   ],
   "source": [
    "type(textured_mesh)"
   ],
   "metadata": {
    "collapsed": false,
    "ExecuteTime": {
     "end_time": "2023-05-14T16:29:49.102278100Z",
     "start_time": "2023-05-14T16:29:49.078771Z"
    }
   }
  },
  {
   "cell_type": "code",
   "execution_count": 52,
   "outputs": [],
   "source": [
    "o3d.visualization.draw_geometries([textured_mesh])"
   ],
   "metadata": {
    "collapsed": false,
    "ExecuteTime": {
     "end_time": "2023-05-14T16:29:52.362945300Z",
     "start_time": "2023-05-14T16:29:49.436934600Z"
    }
   }
  },
  {
   "cell_type": "code",
   "execution_count": 58,
   "outputs": [],
   "source": [
    "pcd = textured_mesh.sample_points_uniformly(number_of_points=50000)\n",
    "o3d.visualization.draw_geometries([pcd])"
   ],
   "metadata": {
    "collapsed": false,
    "ExecuteTime": {
     "end_time": "2023-05-14T16:34:17.199680100Z",
     "start_time": "2023-05-14T16:34:09.988301100Z"
    }
   }
  },
  {
   "cell_type": "code",
   "execution_count": 59,
   "outputs": [],
   "source": [
    "pure_array = np.array(pcd.points)"
   ],
   "metadata": {
    "collapsed": false,
    "ExecuteTime": {
     "end_time": "2023-05-14T16:34:19.912842100Z",
     "start_time": "2023-05-14T16:34:19.895842900Z"
    }
   }
  },
  {
   "cell_type": "code",
   "execution_count": 60,
   "outputs": [
    {
     "data": {
      "text/plain": "array([[ 0.51346261,  6.09531733, -2.69669292],\n       [ 0.50689321,  5.99036772, -2.7556131 ],\n       [ 0.4073805 ,  5.58012098, -3.00849112],\n       ...,\n       [-1.52215362,  7.0585873 , -2.3106998 ],\n       [-1.83884275,  6.51404826, -2.15496917],\n       [-1.50142816,  6.96889239, -2.32640067]])"
     },
     "execution_count": 60,
     "metadata": {},
     "output_type": "execute_result"
    }
   ],
   "source": [
    "pure_array"
   ],
   "metadata": {
    "collapsed": false,
    "ExecuteTime": {
     "end_time": "2023-05-14T16:34:20.070841600Z",
     "start_time": "2023-05-14T16:34:20.054842700Z"
    }
   }
  },
  {
   "cell_type": "code",
   "execution_count": 61,
   "outputs": [
    {
     "name": "stdout",
     "output_type": "stream",
     "text": [
      "-6.983809575313725 13.171890348014376\n"
     ]
    }
   ],
   "source": [
    "print(pure_array.min(), pure_array.max())"
   ],
   "metadata": {
    "collapsed": false,
    "ExecuteTime": {
     "end_time": "2023-05-14T16:34:23.666438100Z",
     "start_time": "2023-05-14T16:34:23.659440900Z"
    }
   }
  },
  {
   "cell_type": "code",
   "execution_count": 63,
   "outputs": [],
   "source": [
    "np.savetxt('kabutops.txt', pure_array)"
   ],
   "metadata": {
    "collapsed": false,
    "ExecuteTime": {
     "end_time": "2023-05-14T17:01:47.943195400Z",
     "start_time": "2023-05-14T17:01:47.653195900Z"
    }
   }
  },
  {
   "cell_type": "code",
   "execution_count": null,
   "outputs": [],
   "source": [],
   "metadata": {
    "collapsed": false
   }
  }
 ],
 "metadata": {
  "kernelspec": {
   "display_name": "Python 3",
   "language": "python",
   "name": "python3"
  },
  "language_info": {
   "codemirror_mode": {
    "name": "ipython",
    "version": 2
   },
   "file_extension": ".py",
   "mimetype": "text/x-python",
   "name": "python",
   "nbconvert_exporter": "python",
   "pygments_lexer": "ipython2",
   "version": "2.7.6"
  }
 },
 "nbformat": 4,
 "nbformat_minor": 0
}

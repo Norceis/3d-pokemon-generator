{
 "cells": [
  {
   "cell_type": "code",
   "execution_count": 1,
   "metadata": {
    "collapsed": true,
    "ExecuteTime": {
     "end_time": "2023-05-13T20:46:21.295680800Z",
     "start_time": "2023-05-13T20:46:16.178304800Z"
    }
   },
   "outputs": [],
   "source": [
    "import numpy as np\n",
    "import pyvista as pv\n",
    "import os\n",
    "from collections import defaultdict"
   ]
  },
  {
   "cell_type": "code",
   "execution_count": 2,
   "outputs": [
    {
     "name": "stdout",
     "output_type": "stream",
     "text": [
      "file count: dict_items([('zip', 2612), ('dae', 4040), ('fbx', 445), ('mtl', 3080), ('obj', 3388), ('smd', 1128), ('psk', 351), ('DAE', 603), ('SMD', 758), ('FBX', 502)])\n"
     ]
    }
   ],
   "source": [
    "types = defaultdict(lambda: 0)\n",
    "for root_dir, cur_dir, files in os.walk(r'E:\\3d-pokemon-generator\\data\\modele_pokemon'):\n",
    "    for file in files:\n",
    "        types[file[-3:]] += 1\n",
    "    # print(files)\n",
    "print('file count:', types.items())"
   ],
   "metadata": {
    "collapsed": false,
    "ExecuteTime": {
     "end_time": "2023-05-13T20:46:32.210383Z",
     "start_time": "2023-05-13T20:46:21.298681200Z"
    }
   }
  },
  {
   "cell_type": "code",
   "execution_count": 3,
   "outputs": [],
   "source": [
    "dae_dirs = []\n",
    "for root_dir, cur_dir, files in os.walk(r'E:\\3d-pokemon-generator\\data\\modele_pokemon'):\n",
    "    for file in files:\n",
    "        if file.endswith('.obj') or file.endswith('.OBJ'):\n",
    "            dae_dirs.append(root_dir + '\\\\' + file)"
   ],
   "metadata": {
    "collapsed": false,
    "ExecuteTime": {
     "end_time": "2023-05-13T20:46:33.356377100Z",
     "start_time": "2023-05-13T20:46:32.210383Z"
    }
   }
  },
  {
   "cell_type": "code",
   "execution_count": 55,
   "outputs": [
    {
     "data": {
      "text/plain": "'E:\\\\3d-pokemon-generator\\\\data\\\\modele_pokemon\\\\PokemonBattle\\\\models\\\\Wii - Pokemon Battle Revolution - 079 Slowpoke.zip\\\\collision.obj'"
     },
     "execution_count": 55,
     "metadata": {},
     "output_type": "execute_result"
    }
   ],
   "source": [
    "dae_dirs[352]"
   ],
   "metadata": {
    "collapsed": false,
    "ExecuteTime": {
     "end_time": "2023-05-13T21:19:44.270007400Z",
     "start_time": "2023-05-13T21:19:44.249008500Z"
    }
   }
  },
  {
   "cell_type": "code",
   "execution_count": 5,
   "outputs": [
    {
     "data": {
      "text/plain": "Widget(value=\"<iframe src='http://localhost:55044/index.html?ui=P_0x14fcc29de80_0&reconnect=auto' style='width…",
      "application/vnd.jupyter.widget-view+json": {
       "version_major": 2,
       "version_minor": 0,
       "model_id": "eb547132c8424c0890dda2570c0a572c"
      }
     },
     "metadata": {},
     "output_type": "display_data"
    }
   ],
   "source": [
    "mesh = pv.read(dae_dirs[352])\n",
    "cpos = mesh.plot()"
   ],
   "metadata": {
    "collapsed": false,
    "ExecuteTime": {
     "end_time": "2023-05-13T20:46:40.512973100Z",
     "start_time": "2023-05-13T20:46:33.373385300Z"
    }
   }
  },
  {
   "cell_type": "code",
   "execution_count": 43,
   "outputs": [
    {
     "data": {
      "text/plain": "pyvista.core.pointset.PolyData"
     },
     "execution_count": 43,
     "metadata": {},
     "output_type": "execute_result"
    }
   ],
   "source": [
    "type(mesh)"
   ],
   "metadata": {
    "collapsed": false,
    "ExecuteTime": {
     "end_time": "2023-05-13T21:05:55.832874Z",
     "start_time": "2023-05-13T21:05:55.815880100Z"
    }
   }
  },
  {
   "cell_type": "code",
   "execution_count": 64,
   "outputs": [
    {
     "data": {
      "text/plain": "Widget(value=\"<iframe src='http://localhost:55044/index.html?ui=P_0x14faabd9250_19&reconnect=auto' style='widt…",
      "application/vnd.jupyter.widget-view+json": {
       "version_major": 2,
       "version_minor": 0,
       "model_id": "86eea189582b47beb7f05ead90c3da37"
      }
     },
     "metadata": {},
     "output_type": "display_data"
    }
   ],
   "source": [
    "voxels = pv.voxelize(mesh, check_surface=False, density=0.2)\n",
    "# p = pv.Plotter()\n",
    "# p.add_mesh(voxels, color=True, show_edges=False, opacity=1)\n",
    "# p.show(cpos=cpos)\n",
    "voxels.plot()"
   ],
   "metadata": {
    "collapsed": false,
    "ExecuteTime": {
     "end_time": "2023-05-13T21:22:02.934671700Z",
     "start_time": "2023-05-13T21:22:00.666500900Z"
    }
   }
  },
  {
   "cell_type": "code",
   "execution_count": 65,
   "outputs": [
    {
     "data": {
      "text/plain": "pyvista.core.pointset.UnstructuredGrid"
     },
     "execution_count": 65,
     "metadata": {},
     "output_type": "execute_result"
    }
   ],
   "source": [
    "type(voxels)"
   ],
   "metadata": {
    "collapsed": false,
    "ExecuteTime": {
     "end_time": "2023-05-13T21:22:02.981700600Z",
     "start_time": "2023-05-13T21:22:02.937670800Z"
    }
   }
  },
  {
   "cell_type": "code",
   "execution_count": 66,
   "outputs": [
    {
     "data": {
      "text/plain": "UnstructuredGrid (0x14fb515c460)\n  N Cells:    62622\n  N Points:   70965\n  X Bounds:   -3.991e+00, 3.809e+00\n  Y Bounds:   -6.302e-02, 8.737e+00\n  Z Bounds:   -1.796e+01, 8.242e+00\n  N Arrays:   2",
      "text/html": "<table><tr><th>Header</th><th>Data Arrays</th></tr><tr><td>\n<table>\n<tr><th>UnstructuredGrid</th><th>Information</th></tr>\n<tr><td>N Cells</td><td>62622</td></tr>\n<tr><td>N Points</td><td>70965</td></tr>\n<tr><td>X Bounds</td><td>-3.991e+00, 3.809e+00</td></tr>\n<tr><td>Y Bounds</td><td>-6.302e-02, 8.737e+00</td></tr>\n<tr><td>Z Bounds</td><td>-1.796e+01, 8.242e+00</td></tr>\n<tr><td>N Arrays</td><td>2</td></tr>\n</table>\n\n</td><td>\n<table>\n<tr><th>Name</th><th>Field</th><th>Type</th><th>N Comp</th><th>Min</th><th>Max</th></tr>\n<tr><td>vtkOriginalPointIds</td><td>Points</td><td>int64</td><td>1</td><td>1.658e+03</td><td>2.369e+05</td></tr>\n<tr><td>vtkOriginalCellIds</td><td>Cells</td><td>int64</td><td>1</td><td>1.617e+03</td><td>2.241e+05</td></tr>\n</table>\n\n</td></tr> </table>"
     },
     "execution_count": 66,
     "metadata": {},
     "output_type": "execute_result"
    }
   ],
   "source": [
    "voxels"
   ],
   "metadata": {
    "collapsed": false,
    "ExecuteTime": {
     "end_time": "2023-05-13T21:22:05.073584700Z",
     "start_time": "2023-05-13T21:22:05.057592Z"
    }
   }
  },
  {
   "cell_type": "code",
   "execution_count": 67,
   "outputs": [],
   "source": [
    "# voxels.save('E:\\\\3d-pokemon-generator\\\\notebooks\\\\test.vtk')"
   ],
   "metadata": {
    "collapsed": false,
    "ExecuteTime": {
     "end_time": "2023-05-13T21:22:06.801247700Z",
     "start_time": "2023-05-13T21:22:06.725252200Z"
    }
   }
  },
  {
   "cell_type": "code",
   "execution_count": 68,
   "outputs": [],
   "source": [
    "voxels['cell_ids'] = np.arange(voxels.n_cells)\n",
    "cell_ids = voxels.extract_surface()['cell_ids']\n",
    "surf_vox = voxels.extract_cells(cell_ids)"
   ],
   "metadata": {
    "collapsed": false,
    "ExecuteTime": {
     "end_time": "2023-05-13T21:22:07.148443200Z",
     "start_time": "2023-05-13T21:22:07.112447700Z"
    }
   }
  },
  {
   "cell_type": "code",
   "execution_count": 69,
   "outputs": [
    {
     "data": {
      "text/plain": "(-3.990591049194336,\n 3.809408950805671,\n -0.06302441656589508,\n 8.736975583434106,\n -17.957839965820312,\n 8.242160034179594)"
     },
     "execution_count": 69,
     "metadata": {},
     "output_type": "execute_result"
    }
   ],
   "source": [
    "voxels.bounds"
   ],
   "metadata": {
    "collapsed": false,
    "ExecuteTime": {
     "end_time": "2023-05-13T21:22:07.768673300Z",
     "start_time": "2023-05-13T21:22:07.748675800Z"
    }
   }
  },
  {
   "cell_type": "code",
   "execution_count": 70,
   "outputs": [],
   "source": [
    "structured = surf_vox.cast_to_poly_points(pass_cell_data=True)"
   ],
   "metadata": {
    "collapsed": false,
    "ExecuteTime": {
     "end_time": "2023-05-13T21:22:08.377225300Z",
     "start_time": "2023-05-13T21:22:08.353207900Z"
    }
   }
  },
  {
   "cell_type": "code",
   "execution_count": 71,
   "outputs": [
    {
     "data": {
      "text/plain": "Widget(value=\"<iframe src='http://localhost:55044/index.html?ui=P_0x14faabd9fa0_20&reconnect=auto' style='widt…",
      "application/vnd.jupyter.widget-view+json": {
       "version_major": 2,
       "version_minor": 0,
       "model_id": "b5737ce6516343448cc87dd6e5763512"
      }
     },
     "metadata": {},
     "output_type": "display_data"
    }
   ],
   "source": [
    "# p = pv.Plotter()\n",
    "# p.add_mesh(structured, color=True, show_edges=False, opacity=0.5)\n",
    "# p.show(cpos=cpos)\n",
    "structured.plot()"
   ],
   "metadata": {
    "collapsed": false,
    "ExecuteTime": {
     "end_time": "2023-05-13T21:22:09.435597600Z",
     "start_time": "2023-05-13T21:22:08.988603100Z"
    }
   }
  },
  {
   "cell_type": "code",
   "execution_count": 72,
   "outputs": [
    {
     "data": {
      "text/plain": "pyvista.core.pointset.PolyData"
     },
     "execution_count": 72,
     "metadata": {},
     "output_type": "execute_result"
    }
   ],
   "source": [
    "type(structured)"
   ],
   "metadata": {
    "collapsed": false,
    "ExecuteTime": {
     "end_time": "2023-05-13T21:22:11.466669200Z",
     "start_time": "2023-05-13T21:22:11.450669800Z"
    }
   }
  },
  {
   "cell_type": "code",
   "execution_count": 74,
   "outputs": [],
   "source": [
    "pl = pv.Plotter()\n",
    "_ = pl.add_mesh(structured, color=True, show_edges=False, opacity=0.5)\n",
    "pl.export_obj('slowpo.obj')"
   ],
   "metadata": {
    "collapsed": false,
    "ExecuteTime": {
     "end_time": "2023-05-13T21:24:47.191911800Z",
     "start_time": "2023-05-13T21:24:46.718321800Z"
    }
   }
  },
  {
   "cell_type": "code",
   "execution_count": 73,
   "outputs": [
    {
     "data": {
      "text/plain": "(24605, 3)"
     },
     "execution_count": 73,
     "metadata": {},
     "output_type": "execute_result"
    }
   ],
   "source": [
    "point_coords = structured.points\n",
    "# cell_conn = structured.cells.reshape(-1, structured.cells.shape[-1])\n",
    "\n",
    "point_coords.shape"
   ],
   "metadata": {
    "collapsed": false,
    "ExecuteTime": {
     "end_time": "2023-05-13T21:22:12.062608300Z",
     "start_time": "2023-05-13T21:22:12.040615500Z"
    }
   }
  },
  {
   "cell_type": "code",
   "execution_count": 24,
   "outputs": [],
   "source": [
    "pure_array = np.array(point_coords)"
   ],
   "metadata": {
    "collapsed": false,
    "ExecuteTime": {
     "end_time": "2023-05-13T20:54:28.192977900Z",
     "start_time": "2023-05-13T20:54:28.188979900Z"
    }
   }
  },
  {
   "cell_type": "code",
   "execution_count": 28,
   "outputs": [
    {
     "data": {
      "text/plain": "(70965, 3)"
     },
     "execution_count": 28,
     "metadata": {},
     "output_type": "execute_result"
    }
   ],
   "source": [
    "pure_array.shape"
   ],
   "metadata": {
    "collapsed": false,
    "ExecuteTime": {
     "end_time": "2023-05-13T20:55:06.579836700Z",
     "start_time": "2023-05-13T20:55:06.539801100Z"
    }
   }
  },
  {
   "cell_type": "code",
   "execution_count": 26,
   "outputs": [
    {
     "data": {
      "text/plain": "numpy.ndarray"
     },
     "execution_count": 26,
     "metadata": {},
     "output_type": "execute_result"
    }
   ],
   "source": [
    "type(pure_array)"
   ],
   "metadata": {
    "collapsed": false,
    "ExecuteTime": {
     "end_time": "2023-05-13T20:54:36.837455300Z",
     "start_time": "2023-05-13T20:54:36.831454300Z"
    }
   }
  },
  {
   "cell_type": "code",
   "execution_count": 27,
   "outputs": [
    {
     "data": {
      "text/plain": "array([[-3.90591049e-01,  8.13697558e+00, -1.79578400e+01],\n       [-1.90591049e-01,  8.13697558e+00, -1.79578400e+01],\n       [ 9.40895081e-03,  8.13697558e+00, -1.79578400e+01],\n       ...,\n       [-1.39059105e+00,  5.53697558e+00,  8.24216003e+00],\n       [-1.19059105e+00,  5.53697558e+00,  8.24216003e+00],\n       [-9.90591049e-01,  5.53697558e+00,  8.24216003e+00]])"
     },
     "execution_count": 27,
     "metadata": {},
     "output_type": "execute_result"
    }
   ],
   "source": [
    "pure_array"
   ],
   "metadata": {
    "collapsed": false,
    "ExecuteTime": {
     "end_time": "2023-05-13T20:54:40.827457Z",
     "start_time": "2023-05-13T20:54:40.768405200Z"
    }
   }
  },
  {
   "cell_type": "code",
   "execution_count": 30,
   "outputs": [],
   "source": [
    "np.savetxt('test.txt', pure_array)"
   ],
   "metadata": {
    "collapsed": false,
    "ExecuteTime": {
     "end_time": "2023-05-13T20:56:17.160713800Z",
     "start_time": "2023-05-13T20:56:16.685718Z"
    }
   }
  },
  {
   "cell_type": "code",
   "execution_count": 36,
   "outputs": [],
   "source": [
    "new_pyvista_model = pv.PolyData(pure_array)"
   ],
   "metadata": {
    "collapsed": false,
    "ExecuteTime": {
     "end_time": "2023-05-13T21:01:46.072582800Z",
     "start_time": "2023-05-13T21:01:46.066580600Z"
    }
   }
  },
  {
   "cell_type": "code",
   "execution_count": 54,
   "outputs": [
    {
     "data": {
      "text/plain": "Widget(value=\"<iframe src='http://localhost:55044/index.html?ui=P_0x14fb5156eb0_16&reconnect=auto' style='widt…",
      "application/vnd.jupyter.widget-view+json": {
       "version_major": 2,
       "version_minor": 0,
       "model_id": "5b631cc42e2e41c4861664a9fa2f27e7"
      }
     },
     "metadata": {},
     "output_type": "display_data"
    }
   ],
   "source": [
    "new_pyvista_model.plot(show_edges=True, line_width=5, color=[0, 0, 0])"
   ],
   "metadata": {
    "collapsed": false,
    "ExecuteTime": {
     "end_time": "2023-05-13T21:16:09.489898700Z",
     "start_time": "2023-05-13T21:16:09.059559300Z"
    }
   }
  },
  {
   "cell_type": "code",
   "execution_count": 75,
   "outputs": [],
   "source": [
    "pl = pv.Plotter()\n",
    "_ = pl.add_mesh(new_pyvista_model, color=True, show_edges=False, opacity=0.5)\n",
    "pl.export_obj('slowpo2.obj')"
   ],
   "metadata": {
    "collapsed": false,
    "ExecuteTime": {
     "end_time": "2023-05-13T21:29:24.608931Z",
     "start_time": "2023-05-13T21:29:24.474927500Z"
    }
   }
  },
  {
   "cell_type": "code",
   "execution_count": null,
   "outputs": [],
   "source": [],
   "metadata": {
    "collapsed": false
   }
  }
 ],
 "metadata": {
  "kernelspec": {
   "display_name": "Python 3",
   "language": "python",
   "name": "python3"
  },
  "language_info": {
   "codemirror_mode": {
    "name": "ipython",
    "version": 2
   },
   "file_extension": ".py",
   "mimetype": "text/x-python",
   "name": "python",
   "nbconvert_exporter": "python",
   "pygments_lexer": "ipython2",
   "version": "2.7.6"
  }
 },
 "nbformat": 4,
 "nbformat_minor": 0
}

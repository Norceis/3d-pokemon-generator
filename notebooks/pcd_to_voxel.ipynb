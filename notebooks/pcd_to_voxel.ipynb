{
 "cells": [
  {
   "cell_type": "code",
   "execution_count": 1,
   "metadata": {
    "ExecuteTime": {
     "end_time": "2023-05-14T17:48:56.102097200Z",
     "start_time": "2023-05-14T17:48:56.085058300Z"
    },
    "collapsed": true
   },
   "outputs": [
    {
     "name": "stdout",
     "output_type": "stream",
     "text": [
      "Requirement already satisfied: open3d in c:\\users\\ozale\\miniconda3\\envs\\myenv\\lib\\site-packages (0.17.0)\n",
      "Requirement already satisfied: configargparse in c:\\users\\ozale\\miniconda3\\envs\\myenv\\lib\\site-packages (from open3d) (1.5.3)\n",
      "Requirement already satisfied: ipywidgets>=8.0.4 in c:\\users\\ozale\\miniconda3\\envs\\myenv\\lib\\site-packages (from open3d) (8.0.6)\n",
      "Requirement already satisfied: werkzeug>=2.2.3 in c:\\users\\ozale\\miniconda3\\envs\\myenv\\lib\\site-packages (from open3d) (2.3.4)\n",
      "Requirement already satisfied: numpy>=1.18.0 in c:\\users\\ozale\\miniconda3\\envs\\myenv\\lib\\site-packages (from open3d) (1.22.3)\n",
      "Requirement already satisfied: nbformat==5.7.0 in c:\\users\\ozale\\miniconda3\\envs\\myenv\\lib\\site-packages (from open3d) (5.7.0)\n",
      "Requirement already satisfied: dash>=2.6.0 in c:\\users\\ozale\\miniconda3\\envs\\myenv\\lib\\site-packages (from open3d) (2.9.3)\n",
      "Requirement already satisfied: fastjsonschema in c:\\users\\ozale\\miniconda3\\envs\\myenv\\lib\\site-packages (from nbformat==5.7.0->open3d) (2.16.2)\n",
      "Requirement already satisfied: jsonschema>=2.6 in c:\\users\\ozale\\miniconda3\\envs\\myenv\\lib\\site-packages (from nbformat==5.7.0->open3d) (4.16.0)\n",
      "Requirement already satisfied: jupyter-core in c:\\users\\ozale\\miniconda3\\envs\\myenv\\lib\\site-packages (from nbformat==5.7.0->open3d) (4.11.1)\n",
      "Requirement already satisfied: traitlets>=5.1 in c:\\users\\ozale\\miniconda3\\envs\\myenv\\lib\\site-packages (from nbformat==5.7.0->open3d) (5.1.1)\n",
      "Requirement already satisfied: plotly>=5.0.0 in c:\\users\\ozale\\miniconda3\\envs\\myenv\\lib\\site-packages (from dash>=2.6.0->open3d) (5.14.1)\n",
      "Requirement already satisfied: Flask>=1.0.4 in c:\\users\\ozale\\miniconda3\\envs\\myenv\\lib\\site-packages (from dash>=2.6.0->open3d) (2.3.2)\n",
      "Requirement already satisfied: dash-html-components==2.0.0 in c:\\users\\ozale\\miniconda3\\envs\\myenv\\lib\\site-packages (from dash>=2.6.0->open3d) (2.0.0)\n",
      "Requirement already satisfied: dash-core-components==2.0.0 in c:\\users\\ozale\\miniconda3\\envs\\myenv\\lib\\site-packages (from dash>=2.6.0->open3d) (2.0.0)\n",
      "Requirement already satisfied: dash-table==5.0.0 in c:\\users\\ozale\\miniconda3\\envs\\myenv\\lib\\site-packages (from dash>=2.6.0->open3d) (5.0.0)\n",
      "Requirement already satisfied: widgetsnbextension~=4.0.7 in c:\\users\\ozale\\miniconda3\\envs\\myenv\\lib\\site-packages (from ipywidgets>=8.0.4->open3d) (4.0.7)\n",
      "Requirement already satisfied: jupyterlab-widgets~=3.0.7 in c:\\users\\ozale\\miniconda3\\envs\\myenv\\lib\\site-packages (from ipywidgets>=8.0.4->open3d) (3.0.7)\n",
      "Requirement already satisfied: ipython>=6.1.0 in c:\\users\\ozale\\miniconda3\\envs\\myenv\\lib\\site-packages (from ipywidgets>=8.0.4->open3d) (8.4.0)\n",
      "Requirement already satisfied: ipykernel>=4.5.1 in c:\\users\\ozale\\miniconda3\\envs\\myenv\\lib\\site-packages (from ipywidgets>=8.0.4->open3d) (6.15.2)\n",
      "Requirement already satisfied: MarkupSafe>=2.1.1 in c:\\users\\ozale\\miniconda3\\envs\\myenv\\lib\\site-packages (from werkzeug>=2.2.3->open3d) (2.1.1)\n",
      "Requirement already satisfied: blinker>=1.6.2 in c:\\users\\ozale\\miniconda3\\envs\\myenv\\lib\\site-packages (from Flask>=1.0.4->dash>=2.6.0->open3d) (1.6.2)\n",
      "Requirement already satisfied: Jinja2>=3.1.2 in c:\\users\\ozale\\miniconda3\\envs\\myenv\\lib\\site-packages (from Flask>=1.0.4->dash>=2.6.0->open3d) (3.1.2)\n",
      "Requirement already satisfied: itsdangerous>=2.1.2 in c:\\users\\ozale\\miniconda3\\envs\\myenv\\lib\\site-packages (from Flask>=1.0.4->dash>=2.6.0->open3d) (2.1.2)\n",
      "Requirement already satisfied: click>=8.1.3 in c:\\users\\ozale\\miniconda3\\envs\\myenv\\lib\\site-packages (from Flask>=1.0.4->dash>=2.6.0->open3d) (8.1.3)\n",
      "Requirement already satisfied: matplotlib-inline>=0.1 in c:\\users\\ozale\\miniconda3\\envs\\myenv\\lib\\site-packages (from ipykernel>=4.5.1->ipywidgets>=8.0.4->open3d) (0.1.6)\n",
      "Requirement already satisfied: debugpy>=1.0 in c:\\users\\ozale\\miniconda3\\envs\\myenv\\lib\\site-packages (from ipykernel>=4.5.1->ipywidgets>=8.0.4->open3d) (1.5.1)\n",
      "Requirement already satisfied: tornado>=6.1 in c:\\users\\ozale\\miniconda3\\envs\\myenv\\lib\\site-packages (from ipykernel>=4.5.1->ipywidgets>=8.0.4->open3d) (6.2)\n",
      "Requirement already satisfied: jupyter-client>=6.1.12 in c:\\users\\ozale\\miniconda3\\envs\\myenv\\lib\\site-packages (from ipykernel>=4.5.1->ipywidgets>=8.0.4->open3d) (7.3.5)\n",
      "Requirement already satisfied: packaging in c:\\users\\ozale\\miniconda3\\envs\\myenv\\lib\\site-packages (from ipykernel>=4.5.1->ipywidgets>=8.0.4->open3d) (21.3)\n",
      "Requirement already satisfied: pyzmq>=17 in c:\\users\\ozale\\miniconda3\\envs\\myenv\\lib\\site-packages (from ipykernel>=4.5.1->ipywidgets>=8.0.4->open3d) (23.2.0)\n",
      "Requirement already satisfied: nest-asyncio in c:\\users\\ozale\\miniconda3\\envs\\myenv\\lib\\site-packages (from ipykernel>=4.5.1->ipywidgets>=8.0.4->open3d) (1.5.5)\n",
      "Requirement already satisfied: psutil in c:\\users\\ozale\\miniconda3\\envs\\myenv\\lib\\site-packages (from ipykernel>=4.5.1->ipywidgets>=8.0.4->open3d) (5.9.0)\n",
      "Requirement already satisfied: setuptools>=18.5 in c:\\users\\ozale\\miniconda3\\envs\\myenv\\lib\\site-packages (from ipython>=6.1.0->ipywidgets>=8.0.4->open3d) (65.5.0)\n",
      "Requirement already satisfied: stack-data in c:\\users\\ozale\\miniconda3\\envs\\myenv\\lib\\site-packages (from ipython>=6.1.0->ipywidgets>=8.0.4->open3d) (0.2.0)\n",
      "Requirement already satisfied: pygments>=2.4.0 in c:\\users\\ozale\\miniconda3\\envs\\myenv\\lib\\site-packages (from ipython>=6.1.0->ipywidgets>=8.0.4->open3d) (2.11.2)\n",
      "Requirement already satisfied: colorama in c:\\users\\ozale\\miniconda3\\envs\\myenv\\lib\\site-packages (from ipython>=6.1.0->ipywidgets>=8.0.4->open3d) (0.4.5)\n",
      "Requirement already satisfied: jedi>=0.16 in c:\\users\\ozale\\miniconda3\\envs\\myenv\\lib\\site-packages (from ipython>=6.1.0->ipywidgets>=8.0.4->open3d) (0.18.1)\n",
      "Requirement already satisfied: decorator in c:\\users\\ozale\\miniconda3\\envs\\myenv\\lib\\site-packages (from ipython>=6.1.0->ipywidgets>=8.0.4->open3d) (5.1.1)\n",
      "Requirement already satisfied: backcall in c:\\users\\ozale\\miniconda3\\envs\\myenv\\lib\\site-packages (from ipython>=6.1.0->ipywidgets>=8.0.4->open3d) (0.2.0)\n",
      "Requirement already satisfied: pickleshare in c:\\users\\ozale\\miniconda3\\envs\\myenv\\lib\\site-packages (from ipython>=6.1.0->ipywidgets>=8.0.4->open3d) (0.7.5)\n",
      "Requirement already satisfied: prompt-toolkit!=3.0.0,!=3.0.1,<3.1.0,>=2.0.0 in c:\\users\\ozale\\miniconda3\\envs\\myenv\\lib\\site-packages (from ipython>=6.1.0->ipywidgets>=8.0.4->open3d) (3.0.20)\n",
      "Requirement already satisfied: attrs>=17.4.0 in c:\\users\\ozale\\miniconda3\\envs\\myenv\\lib\\site-packages (from jsonschema>=2.6->nbformat==5.7.0->open3d) (21.4.0)\n",
      "Requirement already satisfied: pyrsistent!=0.17.0,!=0.17.1,!=0.17.2,>=0.14.0 in c:\\users\\ozale\\miniconda3\\envs\\myenv\\lib\\site-packages (from jsonschema>=2.6->nbformat==5.7.0->open3d) (0.18.0)\n",
      "Requirement already satisfied: tenacity>=6.2.0 in c:\\users\\ozale\\miniconda3\\envs\\myenv\\lib\\site-packages (from plotly>=5.0.0->dash>=2.6.0->open3d) (8.2.2)\n",
      "Requirement already satisfied: pywin32>=1.0 in c:\\users\\ozale\\miniconda3\\envs\\myenv\\lib\\site-packages (from jupyter-core->nbformat==5.7.0->open3d) (302)\n",
      "Requirement already satisfied: parso<0.9.0,>=0.8.0 in c:\\users\\ozale\\miniconda3\\envs\\myenv\\lib\\site-packages (from jedi>=0.16->ipython>=6.1.0->ipywidgets>=8.0.4->open3d) (0.8.3)\n",
      "Requirement already satisfied: entrypoints in c:\\users\\ozale\\miniconda3\\envs\\myenv\\lib\\site-packages (from jupyter-client>=6.1.12->ipykernel>=4.5.1->ipywidgets>=8.0.4->open3d) (0.4)\n",
      "Requirement already satisfied: python-dateutil>=2.8.2 in c:\\users\\ozale\\miniconda3\\envs\\myenv\\lib\\site-packages (from jupyter-client>=6.1.12->ipykernel>=4.5.1->ipywidgets>=8.0.4->open3d) (2.8.2)\n",
      "Requirement already satisfied: wcwidth in c:\\users\\ozale\\miniconda3\\envs\\myenv\\lib\\site-packages (from prompt-toolkit!=3.0.0,!=3.0.1,<3.1.0,>=2.0.0->ipython>=6.1.0->ipywidgets>=8.0.4->open3d) (0.2.5)\n",
      "Requirement already satisfied: pyparsing!=3.0.5,>=2.0.2 in c:\\users\\ozale\\miniconda3\\envs\\myenv\\lib\\site-packages (from packaging->ipykernel>=4.5.1->ipywidgets>=8.0.4->open3d) (3.0.9)\n",
      "Requirement already satisfied: asttokens in c:\\users\\ozale\\miniconda3\\envs\\myenv\\lib\\site-packages (from stack-data->ipython>=6.1.0->ipywidgets>=8.0.4->open3d) (2.0.5)\n",
      "Requirement already satisfied: executing in c:\\users\\ozale\\miniconda3\\envs\\myenv\\lib\\site-packages (from stack-data->ipython>=6.1.0->ipywidgets>=8.0.4->open3d) (0.8.3)\n",
      "Requirement already satisfied: pure-eval in c:\\users\\ozale\\miniconda3\\envs\\myenv\\lib\\site-packages (from stack-data->ipython>=6.1.0->ipywidgets>=8.0.4->open3d) (0.2.2)\n",
      "Requirement already satisfied: six>=1.5 in c:\\users\\ozale\\miniconda3\\envs\\myenv\\lib\\site-packages (from python-dateutil>=2.8.2->jupyter-client>=6.1.12->ipykernel>=4.5.1->ipywidgets>=8.0.4->open3d) (1.16.0)\n",
      "Jupyter environment detected. Enabling Open3D WebVisualizer.\n",
      "[Open3D INFO] WebRTC GUI backend enabled.\n",
      "[Open3D INFO] WebRTCWindowSystem: HTTP handshake server disabled.\n"
     ]
    }
   ],
   "source": [
    "import numpy as np\n",
    "!pip install open3d\n",
    "import open3d as o3d\n",
    "import os\n",
    "import pandas as pd\n",
    "from tqdm import tqdm\n",
    "import pickle\n",
    "from collections import defaultdict\n",
    "\n",
    "o3d.utility.set_verbosity_level(o3d.cpu.pybind.utility.VerbosityLevel(0))"
   ]
  },
  {
   "cell_type": "code",
   "execution_count": 2,
   "metadata": {
    "ExecuteTime": {
     "end_time": "2023-05-14T18:02:42.682260400Z",
     "start_time": "2023-05-14T18:02:15.565190900Z"
    },
    "collapsed": false
   },
   "outputs": [],
   "source": [
    "dataset = pd.read_pickle('../data/4877.pickle')"
   ]
  },
  {
   "cell_type": "code",
   "execution_count": 8,
   "metadata": {},
   "outputs": [],
   "source": [
    "def plot_voxel(xyz, dim_size=128):\n",
    "    ratio = float('inf')\n",
    "\n",
    "    for d in range(3):\n",
    "        dmin = xyz[:,d].min()\n",
    "        dmax = xyz[:,d].max()\n",
    "        cand_ratio = dim_size/(dmax - dmin)\n",
    "        if ratio > cand_ratio:\n",
    "            ratio = cand_ratio\n",
    "        xyz[:,d] = (xyz[:,d] - dmin)  \n",
    "\n",
    "    xyz *= ratio\n",
    "    xyz = np.rint(xyz)\n",
    "    bbox = o3d.geometry.AxisAlignedBoundingBox(np.array([0,0,0]), np.array([dim_size,dim_size,dim_size]))\n",
    "    bbox.color = (255,0,0)\n",
    "    pcd = o3d.geometry.PointCloud()\n",
    "    pcd.points = o3d.utility.Vector3dVector(xyz)\n",
    "    o3d.visualization.draw_geometries([pcd, bbox])"
   ]
  },
  {
   "cell_type": "code",
   "execution_count": 11,
   "metadata": {},
   "outputs": [
    {
     "ename": "KeyboardInterrupt",
     "evalue": "",
     "output_type": "error",
     "traceback": [
      "\u001b[1;31m---------------------------------------------------------------------------\u001b[0m",
      "\u001b[1;31mKeyboardInterrupt\u001b[0m                         Traceback (most recent call last)",
      "\u001b[1;32md:\\SIIUM\\3 semestr\\GSN\\POKEMON\\3d-pokemon-generator\\notebooks\\HOW_TO_creating_cloudpoints_dataset.ipynb Cell 9\u001b[0m in \u001b[0;36m<cell line: 2>\u001b[1;34m()\u001b[0m\n\u001b[0;32m      <a href='vscode-notebook-cell:/d%3A/SIIUM/3%20semestr/GSN/POKEMON/3d-pokemon-generator/notebooks/HOW_TO_creating_cloudpoints_dataset.ipynb#X11sZmlsZQ%3D%3D?line=2'>3</a>\u001b[0m i \u001b[39m=\u001b[39m random\u001b[39m.\u001b[39mrandrange(\u001b[39mlen\u001b[39m(dataset))\n\u001b[0;32m      <a href='vscode-notebook-cell:/d%3A/SIIUM/3%20semestr/GSN/POKEMON/3d-pokemon-generator/notebooks/HOW_TO_creating_cloudpoints_dataset.ipynb#X11sZmlsZQ%3D%3D?line=3'>4</a>\u001b[0m xyz \u001b[39m=\u001b[39m dataset\u001b[39m.\u001b[39mloc[i][\u001b[39m'\u001b[39m\u001b[39mPoints_coordinates\u001b[39m\u001b[39m'\u001b[39m]\u001b[39m.\u001b[39mcopy()\n\u001b[1;32m----> <a href='vscode-notebook-cell:/d%3A/SIIUM/3%20semestr/GSN/POKEMON/3d-pokemon-generator/notebooks/HOW_TO_creating_cloudpoints_dataset.ipynb#X11sZmlsZQ%3D%3D?line=4'>5</a>\u001b[0m plot_voxel(xyz, dim_size\u001b[39m=\u001b[39;49m\u001b[39m128\u001b[39;49m)\n",
      "\u001b[1;31mKeyboardInterrupt\u001b[0m: "
     ]
    }
   ],
   "source": [
    "import random\n",
    "while True:\n",
    "    i = random.randrange(len(dataset))\n",
    "    xyz = dataset.loc[i]['Points_coordinates'].copy()\n",
    "    plot_voxel(xyz, dim_size=128)"
   ]
  }
 ],
 "metadata": {
  "kernelspec": {
   "display_name": "Python 3",
   "language": "python",
   "name": "python3"
  },
  "language_info": {
   "codemirror_mode": {
    "name": "ipython",
    "version": 3
   },
   "file_extension": ".py",
   "mimetype": "text/x-python",
   "name": "python",
   "nbconvert_exporter": "python",
   "pygments_lexer": "ipython3",
   "version": "3.10.6"
  }
 },
 "nbformat": 4,
 "nbformat_minor": 0
}
